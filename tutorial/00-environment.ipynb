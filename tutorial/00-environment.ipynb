{
 "cells": [
  {
   "cell_type": "markdown",
   "metadata": {},
   "source": [
    "# The Environment & Task\n",
    "\n",
    "## Introduction\n",
    "This tutorial uses [Farama's Minigrid](https://github.com/Farama-Foundation/MiniGrid) library and grid-world environments, which are a great starting point for research on reinforcement learning (and have a nice, lightweight and fast API). The library follow the [Gymnasium API](https://github.com/Farama-Foundation/Gymnasium) which is also a handy tool for researchers in the field. \n",
    "\n",
    "MiniGrid may seem too simple but is a powerful tool used in real research. See some recent publications using it [here](https://minigrid.farama.org/content/publications/).\n",
    "\n",
    "## Notebook Objectives\n",
    "- Check that all dependencies are installed.\n",
    "- Create and render a predefined Minigrid environment.\n",
    "- Learn the environment's key concepts and configuration components that will be used throughout the tutorial.\n",
    "- Run and visualize a random-action agent interacting with the world."
   ]
  },
  {
   "cell_type": "markdown",
   "metadata": {},
   "source": [
    "### Check Install"
   ]
  },
  {
   "cell_type": "code",
   "execution_count": 1,
   "metadata": {},
   "outputs": [
    {
     "name": "stdout",
     "output_type": "stream",
     "text": [
      "All required packages are installed.\n"
     ]
    }
   ],
   "source": [
    "from helpers.check_dev_env import check_install\n",
    "check_install()"
   ]
  },
  {
   "cell_type": "code",
   "execution_count": 1,
   "metadata": {},
   "outputs": [],
   "source": [
    "from confs.instances import env_config\n",
    "from helpers import env_utils\n",
    "from agents.random import RandomAgent\n",
    "\n",
    "from os import path\n",
    "import numpy as np\n",
    "from minigrid.core.constants import IDX_TO_OBJECT\n",
    "import matplotlib.pylab as plt"
   ]
  },
  {
   "cell_type": "markdown",
   "metadata": {},
   "source": [
    "### State and Observations\n",
    "- configuration details in `confs.instances.env_config`"
   ]
  },
  {
   "cell_type": "code",
   "execution_count": null,
   "metadata": {},
   "outputs": [
    {
     "name": "stdout",
     "output_type": "stream",
     "text": [
      "Entities in grid:\n",
      " {1: 'empty', 2: 'wall', 4: 'door', 8: 'goal', 10: 'agent'} \n",
      "\n",
      "Grid-world state:\n",
      " [[ 2  2  2  2  2  2  2]\n",
      " [ 2 10  1  2  1  1  2]\n",
      " [ 2  1  1  2  1  1  2]\n",
      " [ 2  1  1  2  1  1  2]\n",
      " [ 2  1  1  4  1  1  2]\n",
      " [ 2  1  1  2  1  1  2]\n",
      " [ 2  1  1  2  1  1  2]\n",
      " [ 2  1  1  2  1  8  2]\n",
      " [ 2  2  2  2  2  2  2]] \n",
      "\n",
      "Grid-world egocentric observation,\n",
      "Althrough not shown the agent is in (row,col) == (5,3):\n",
      " [[2 1 1 2 0]\n",
      " [4 1 1 2 0]\n",
      " [2 1 1 2 0]\n",
      " [2 1 1 2 0]\n",
      " [2 1 1 2 0]] \n",
      "\n",
      "Grid-world state and observation rendered as an image:\n"
     ]
    },
    {
     "data": {
      "image/png": "[encoded data removed]",
      "text/plain": [
       "<Figure size 640x480 with 1 Axes>"
      ]
     },
     "metadata": {},
     "output_type": "display_data"
    }
   ],
   "source": [
    "env = env_utils.load_env(env_config)\n",
    "\n",
    "observation, info = env.reset()\n",
    "\n",
    "env_as_array = env.get_array_repr()\n",
    "entities_in_grid = {key:value for key,value in IDX_TO_OBJECT.items() if np.isin(key, env_as_array)}\n",
    "\n",
    "print('Entities in grid:\\n',entities_in_grid,'\\n')\n",
    "\n",
    "print('Grid-world state:\\n',env_as_array, '\\n')\n",
    "\n",
    "print('Grid-world egocentric observation,\\nAlthrough not shown the agent is in (row,col) == (5,3):\\n', observation['observation'].T, '\\n')\n",
    "\n",
    "print('Note that the value 0 in the egocentric observation matrix corresponds to unobserved cells.\\n')\n",
    "\n",
    "print('Grid-world state and observation rendered as an image:')\n",
    "env.show_render()\n"
   ]
  },
  {
   "cell_type": "markdown",
   "metadata": {},
   "source": [
    "### Actions"
   ]
  },
  {
   "cell_type": "code",
   "execution_count": 3,
   "metadata": {},
   "outputs": [
    {
     "name": "stdout",
     "output_type": "stream",
     "text": [
      "Valid actions:\n",
      "['left', 'right', 'forward'] \n",
      "\n",
      "Grid-world after action:\n",
      " [[ 2  2  2  2  2  2  2]\n",
      " [ 2 10  1  2  1  1  2]\n",
      " [ 2  1  1  2  1  1  2]\n",
      " [ 2  1  1  2  1  1  2]\n",
      " [ 2  1  1  4  1  1  2]\n",
      " [ 2  1  1  2  1  1  2]\n",
      " [ 2  1  1  2  1  1  2]\n",
      " [ 2  1  1  2  1  8  2]\n",
      " [ 2  2  2  2  2  2  2]] \n",
      "\n"
     ]
    },
    {
     "data": {
      "image/png": "[encoded data removed]",
      "text/plain": [
       "<Figure size 640x480 with 1 Axes>"
      ]
     },
     "metadata": {},
     "output_type": "display_data"
    }
   ],
   "source": [
    "print('Valid actions:\\n{}'.format([a.name for a in env.valid_actions]), '\\n')\n",
    "\n",
    "# instantiate a random action agent\n",
    "random_action_agent = RandomAgent(valid_actions=env.valid_actions)\n",
    "\n",
    "# take an action and render result\n",
    "action = random_action_agent.act()\n",
    "env.step(action)\n",
    "\n",
    "print('Grid-world after action:\\n',env_as_array, '\\n')\n",
    "\n",
    "env.show_render()"
   ]
  },
  {
   "cell_type": "markdown",
   "metadata": {},
   "source": [
    "### Example Run\n",
    "- Standard RL loop\n",
    "- We will use a random action agent\n",
    "- We will record a video and play it"
   ]
  },
  {
   "cell_type": "code",
   "execution_count": 4,
   "metadata": {},
   "outputs": [],
   "source": [
    "from gymnasium.wrappers import RecordVideo\n",
    "\n",
    "video_path = 'videos/00-environment/'\n",
    "\n",
    "run_env = RecordVideo(env, \n",
    "\t\t\t\t\t  video_folder=video_path, \n",
    "\t\t\t\t\t  name_prefix='random-action', disable_logger=True,\n",
    "                  \t  episode_trigger=lambda x: True) # episode trigger set to record always\n",
    "\n",
    "# generate a new env\n",
    "observation, info = run_env.reset()\n",
    "\n",
    "# simulate multiple steps\n",
    "max_steps = 100\n",
    "for t in range(max_steps):\n",
    "\t# robot observes and takes an action\n",
    "\taction = random_action_agent.act(observation)\n",
    "\t# step environment with action and receive new observations\n",
    "\tnext_obs, reward, terminated, truncated, info = run_env.step(action=action)\n",
    "\tdone = terminated or truncated\n",
    "\tif done:\n",
    "\t\t\tbreak\n",
    "run_env.close()"
   ]
  },
  {
   "cell_type": "code",
   "execution_count": 5,
   "metadata": {},
   "outputs": [
    {
     "name": "stdout",
     "output_type": "stream",
     "text": [
      "videos/00-environment/random-action-episode-0.mp4\n"
     ]
    },
    {
     "data": {
      "text/html": [
       "<video src=\"videos/00-environment/random-action-episode-0.mp4\" controls  >\n",
       "      Your browser does not support the <code>video</code> element.\n",
       "    </video>"
      ],
      "text/plain": [
       "<IPython.core.display.Video object>"
      ]
     },
     "execution_count": 5,
     "metadata": {},
     "output_type": "execute_result"
    }
   ],
   "source": [
    "video_full_path = path.join(video_path,'random-action-episode-0.mp4')\n",
    "# if for some reason the video doesn't load check in your directory\n",
    "print(video_full_path)\n",
    "\n",
    "from IPython.display import Video\n",
    "Video(video_full_path)"
   ]
  }
 ],
 "metadata": {
  "kernelspec": {
   "display_name": "model-based-rl",
   "language": "python",
   "name": "python3"
  },
  "language_info": {
   "codemirror_mode": {
    "name": "ipython",
    "version": 3
   },
   "file_extension": ".py",
   "mimetype": "text/x-python",
   "name": "python",
   "nbconvert_exporter": "python",
   "pygments_lexer": "ipython3",
   "version": "3.10.16"
  }
 },
 "nbformat": 4,
 "nbformat_minor": 2
}
